{
  "nbformat": 4,
  "nbformat_minor": 0,
  "metadata": {
    "colab": {
      "provenance": []
    },
    "kernelspec": {
      "name": "python3",
      "display_name": "Python 3"
    },
    "language_info": {
      "name": "python"
    }
  },
  "cells": [
    {
      "cell_type": "markdown",
      "source": [
        "# Theory Questions\n"
      ],
      "metadata": {
        "id": "_NeB1fUVmEZa"
      }
    },
    {
      "cell_type": "markdown",
      "source": [
        "**Q.1**. What is Object-Oriented Programming (OOP)?\n",
        "**Ans** - you’re organizing your work desk. You don’t just throw everything into one big pile—you group related things together, right? Pens go in one holder, papers in another, and your laptop sits neatly in its space. Object-Oriented Programming (OOP) works in a similar way by organizing code into reusable, self-contained units called objects.\n",
        "Each object has two key things:\n",
        "\n",
        "- Attributes - These are the object’s properties (like a car’s color, brand, or speed).\n",
        "- Methods - These are the actions the object can perform (like driving, stopping, or honking).\n",
        "\n",
        "Now, instead of writing everything from scratch, OOP lets you create blueprints called classes. If you make a “Car” class, you can then create multiple car objects from it, each with different colors, speeds, and models. The cool part? If you change the blueprint (class), all related objects automatically update.\n",
        "This way of thinking makes code more organized, reusable, and easy to manage—just like a well-arranged desk. No more tangled mess of scattered instructions; everything has its place, making large programs much easier to handle.\n",
        "Python, Java, and C++ are some popular languages that use this approach, helping developers build everything from simple websites to complex applications."
      ],
      "metadata": {
        "id": "QRnOT3hYmN0z"
      }
    },
    {
      "cell_type": "markdown",
      "source": [
        "**Q.2** What is a class in OOP?\n",
        "**Ans -** class as a blueprint or a template—just like a recipe for baking a cake. The recipe (class) tells you what ingredients you need (properties) and the steps to follow (methods). But the recipe itself isn't a cake; it only defines how to create one.\n",
        "In Object-Oriented Programming (OOP), a class defines the structure and behavior of objects. For example, if you have a \"Car\" class, it will specify attributes like color, model, and speed, along with actions like drive, brake, and honk. Once you have this class, you can use it to create multiple car objects, each with different colors and speeds.\n",
        "Without classes, you'd have to repeat code over and over for each car—OOP helps by letting you reuse the same structure, keeping things organized and efficient.\n"
      ],
      "metadata": {
        "id": "UiztACDFm2pc"
      }
    },
    {
      "cell_type": "markdown",
      "source": [
        "**Q.3**  What is an object in OOP?\n",
        "**Ans -** object as a real thing created from a blueprint. If a class is the blueprint, the object is the actual product made from it.\n",
        "For example, imagine a Car class—it defines attributes like color, model, and speed, along with actions like drive and brake. But that’s just the design. An object is when you actually create a car—let’s say a red Ferrari or a blue Tesla. Each car object has its own unique properties but follows the same structure from the class.\n",
        "Objects are the living, usable versions of the class in a program. They help make code more realistic, reusable, and modular, just like how factories mass-produce different versions of a product using the same template.\n"
      ],
      "metadata": {
        "id": "3IsK-JJUnRe-"
      }
    },
    {
      "cell_type": "markdown",
      "source": [
        "**Q.4**  What is the difference between abstraction and encapsulation?\n",
        "**Ans -** Imagine you’re using a smartphone:\n",
        "**Abstraction** is about hiding the complex details and showing only what you need. When you tap an app, you don’t worry about how the phone processes your request—you just see the result. The complicated inner workings (like code, hardware interactions, and data processing) are hidden from you.\n",
        "\n",
        "**Encapsulation** is about protecting and restricting access to certain details. Think of it like the security system of the phone—some features are locked behind a password or fingerprint authentication, preventing unauthorized access to sensitive data.\n",
        "\n",
        " Now, in Object-Oriented Programming (OOP):\n",
        " **Abstraction** ensures that users interact with only the necessary parts of the code without worrying about technical implementation details.\n",
        " **Encapsulation** bundles data and methods together, preventing outside interference and protecting the integrity of the object.\n",
        " - Abstraction hides unnecessary details and shows only essential features.\n",
        " - Encapsulation protects data and restricts access to it."
      ],
      "metadata": {
        "id": "i_r7fwcKniTB"
      }
    },
    {
      "cell_type": "markdown",
      "source": [
        "**Q.5** What are dunder methods in Python?\n",
        "**Ans -** Dunder methods (short for \"double underscore\" methods) are special functions in Python that start and end with double underscores (like `__init__` or `__str__` ). They let objects behave in certain ways without you needing to write extra code.\n",
        "Think of them like hidden superpowers inside classes. They help define how objects work behind the scenes—like how they’re created, displayed, or even how they interact with operators (`+`,`-`, etc.).\n",
        "- example:\n",
        "\n",
        "`__init__` This is the constructor—it runs automatically when you create a new object.\n",
        "\n",
        "`__str__`This defines how the object looks as text—like when you print it.\n",
        "\n",
        "`__Add__` Allows objects to be added together using `+` (yes, even objects can use `+`!).\n"
      ],
      "metadata": {
        "id": "Lxyy4hSsoRFX"
      }
    },
    {
      "cell_type": "markdown",
      "source": [
        "**Q.6** Explain the concept of inheritance in OOP?\n",
        "**Ans -** you’re part of a family where certain traits are passed down from parents to children. Maybe you inherited your dad’s smile or your mom’s love for music. In Object-Oriented Programming (OOP), inheritance works in the same way—it allows a new class to take on the properties and behaviors of an existing class.\n",
        "\n",
        "how it works:\n",
        "- The parent class (also called the base class) defines common traits and actions\n",
        "- The child class (or derived class) inherits everything from the parent class, but can also add its own features or modify behaviors.\n",
        "\n"
      ],
      "metadata": {
        "id": "q-o0HmfWpvqn"
      }
    },
    {
      "cell_type": "markdown",
      "source": [
        "**Q.7** What is polymorphism in OOP?\n",
        "**Ans -** you have a universal remote control. No matter whether you’re controlling a TV, an air conditioner, or a music system, you just press the power button, and it works—without worrying about how each device operates internally.\n",
        "This is polymorphism in Object-Oriented Programming (OOP)—the ability for different objects to respond to the same action in their own unique way.\n",
        "\n",
        "How does it work?\n",
        "\n",
        "In OOP, polymorphism allows different classes to have the same method name but perform different tasks. So, instead of writing separate code for each object, you can use a single method name and let each object decide how to execute it.\n",
        "For example:\n",
        "\n",
        "A Dog and a Cat both have a method called `make_sound()` , but a dog barks while a cat meows.\n",
        "\n",
        "A Car and a Bike both have a `move()` method, but a car moves on four wheels while a bike moves on two."
      ],
      "metadata": {
        "id": "a4kJT9tuqrQJ"
      }
    },
    {
      "cell_type": "markdown",
      "source": [
        "**Q.8** How is encapsulation achieved in Python?\n",
        "**Ans -** your phone has a lock screen—you can see basic notifications, but to access private messages or settings, you need a password. This is exactly how encapsulation works in Python—it hides sensitive details while allowing controlled access.\n",
        "\n",
        "How does it work?\n",
        "\n",
        "Encapsulation ensures that an object's internal data is protected from direct access and modification. Instead of letting anyone mess with it, we control interactions using methods.\n",
        "\n",
        "Python achieves encapsulation with:\n",
        "\n",
        "- Private attributes (using `_` or `__` prefix to restrict direct access).\n",
        "- Getter & Setter methods (controlled ways to access and update data).\n",
        "- Properties (to manage how data is retrieved and modified).\n",
        "\n"
      ],
      "metadata": {
        "id": "c7a-hZaerfyZ"
      }
    },
    {
      "cell_type": "markdown",
      "source": [
        "**Q.9** What is a constructor in Python?\n",
        "**Ans -** you’re setting up a brand-new smartphone. The moment you turn it on, it automatically runs through a setup process—configuring settings, connecting to Wi-Fi, and getting everything ready without you having to do anything manually. This is exactly what a constructor does in Python—it initializes objects automatically when they are created.\n",
        "\n",
        "What is a Constructor?\n",
        "\n",
        "A constructor is a special method called `__init__()` in Python that runs automatically when you create an object from a class. It’s like a welcome routine that sets up all necessary details right at the start.\n",
        "\n",
        "- Example:\n",
        "\n",
        "\n",
        "```\n",
        "class Car:\n",
        "    def __init__(self, brand, color):  # Constructor method\n",
        "        self.brand = brand\n",
        "        self.color = color\n",
        "\n",
        "    def show_info(self):\n",
        "        return f\"This is a {self.color} {self.brand}.\"\n",
        "\n",
        "# Creating objects\n",
        "car1 = Car(\"Tesla\", \"red\")  # 🚗 The constructor runs automatically\n",
        "car2 = Car(\"BMW\", \"blue\")   # 🚗 Another instance gets initialized\n",
        "\n",
        "print(car1.show_info())  # Output: This is a red Tesla.\n",
        "print(car2.show_info())  # Output: This is a blue BMW.\n",
        "```\n",
        "How does it work?\n",
        "\n",
        "- The `__init()`  method is triggered automatically when we create a `Car`  object.\n",
        "- It assigns values to properties like `brand` and `color` , so every car starts with its own unique setup.\n",
        "- Without a constructor, we’d have to manually set attributes for every object—which would be inefficient.\n",
        "\n",
        "\n",
        "\n",
        "\n"
      ],
      "metadata": {
        "id": "N1wqn5RusGPo"
      }
    },
    {
      "cell_type": "markdown",
      "source": [
        "**Q.10** What are class and static methods in Python?\n",
        "**Ans -** you’re part of a big company where employees follow certain rules and guidelines. Some rules apply to individual employees (like dress code), while others apply to the company as a whole (like work hours).\n",
        "In Python, class methods and static methods work similarly—they define behavior that applies to either the whole class or just specific operations.\n",
        "\n",
        "- Class methods are useful when you need to work with data that belongs to the entire class, not just one object. Think of them as rules affecting the whole company. A class method belongs to the class itself, not just one object. It can modify or use shared class-level data.\n",
        "\n",
        "- Static methods are used for independent tasks that don’t rely on class attributes. Think of them as general-purpose rules anyone can use.\n",
        "A static method does not need access to class data—it’s like a standalone function inside a class."
      ],
      "metadata": {
        "id": "MmtDZFRttKlW"
      }
    },
    {
      "cell_type": "markdown",
      "source": [
        "**Q.11** What is method overloading in Python?\n",
        "**Ans -** you have a Swiss Army knife. It has different tools like scissors, a blade, and a screwdriver, but you use the same knife no matter which tool you need. The tool that gets used depends on how you handle it.\n",
        "In Python, method overloading works similarly—it allows one method to handle different types of input. Instead of creating multiple separate methods for different cases, Python lets you define a single method that adapts based on arguments.\n",
        "However, Python doesn’t support method overloading directly like some other languages (such as Java or C++). But you can achieve similar behavior using default arguments or variable-length arguments."
      ],
      "metadata": {
        "id": "QBSmIgkYt2a5"
      }
    },
    {
      "cell_type": "markdown",
      "source": [
        "**Q.12**  What is method overriding in OOP?\n",
        "**Ans -** I’m a teacher, and I have a standard way of explaining a topic to my students. But then, a new teacher joins the school—let’s say you—and while you still teach the same subject, you have your own unique way of explaining things. You override my teaching style with yours, making it better suited to your approach.\n",
        "- What is Method Overriding?\n",
        "\n",
        "Method overriding is when a child class provides its own version of a method that’s already defined in the parent class. Even though the method name remains the same, the child class changes how it behaves.\n",
        "It’s useful when you want a customized version of a method that exists in a parent class."
      ],
      "metadata": {
        "id": "L3JMbHFfuZuB"
      }
    },
    {
      "cell_type": "markdown",
      "source": [
        "**Q.13** What is a property decorator in Python?\n",
        "**Ans -**  you have a smartwatch that tracks your steps. Instead of manually checking your step count every few minutes, it automatically updates and shows the latest number when you glance at it. In Python, the property decorator (`@property`) works in a similar way—it allows you to define methods that behave like attributes, making code more elegant and readable.\n",
        "\n",
        "What does `@property`  do?\n",
        "\n",
        "- It lets you access methods like attributes (without needing parentheses `()` ).\n",
        "- It makes getter methods more intuitive—you don’t have to call them explicitly.\n",
        "- It helps control how data is accessed and modified.\n",
        "\n"
      ],
      "metadata": {
        "id": "2W2BMJJWvB6m"
      }
    },
    {
      "cell_type": "markdown",
      "source": [
        "**Q.14** Why is polymorphism important in OOP?\n",
        "**Ans -** you’re a musician playing in a band. Whether you pick up a guitar, a keyboard, or a drumstick, you use the same action—playing music—but each instrument sounds completely different. You don’t need a separate rule for every instrument—you just play and let each instrument produce its own sound.\n",
        "This is exactly why polymorphism is important in Object-Oriented Programming (OOP)—it allows different objects to respond to the same action in their own way.\n",
        "- Why is it so useful?\n",
        "\n",
        "Flexibility – You can write a single method name, and different objects will handle it differently.\n",
        "\n",
        "\n",
        "Code Reusability – Instead of writing separate functions for different types, one method works for all.\n",
        "\n",
        "Scalability – If you add new objects, you don’t need to modify old code—just define how the new object should behave.\n",
        "\n",
        "\n",
        "Better Organization – Polymorphism makes code cleaner and easier to manage, especially in large applications.\n"
      ],
      "metadata": {
        "id": "VAobYAnUvu1F"
      }
    },
    {
      "cell_type": "markdown",
      "source": [
        "**Q.15** What is an abstract class in Python?\n",
        "**Ans -** you’re designing a blueprint for different types of vehicles. You know that every vehicle can move, but you can’t define exactly how it moves because a car, a bicycle, and a plane all move differently. So instead of creating a specific vehicle, you create a template that forces all future vehicles to implement their own movement method.\n",
        "That’s exactly what an abstract class does in Python—it acts as a blueprint for other classes but can’t be used directly.\n",
        " - What is an Abstract Class?\n",
        "\n",
        "It defines structure but doesn’t fully implement everything.\n",
        "\n",
        "\n",
        "It can’t be instantiated (you can’t create objects from it directly).\n",
        "\n",
        "It enforces rules—child classes must provide their own versions of certain methods.\n",
        "\n"
      ],
      "metadata": {
        "id": "Rhmxc8zDwOIx"
      }
    },
    {
      "cell_type": "markdown",
      "source": [
        "**Q.16** What are the advantages of OOP?\n",
        "**Ans -** you’re building a huge city—you wouldn’t construct each building piece by piece every time, right? You’d use blueprints, reusable designs, and structured planning to keep everything organized and scalable. This is exactly why Object-Oriented Programming (OOP) is so powerful—it helps you write cleaner, more structured, and reusable code.\n",
        "\n",
        "**Advantages of OOP**\n",
        "\n",
        "- Modularity & Reusability -\n",
        "\n",
        "Instead of writing everything from scratch, you create reusable components (classes and objects).\n",
        "\n",
        "Once you define a Car class, you can make countless car objects without rewriting code.\n",
        "\n",
        "- Encapsulation (Data Protection) -\n",
        "\n",
        "Keeps your data safe from accidental modifications by restricting direct access.\n",
        "\n",
        "Just like a smartphone locks sensitive settings, encapsulation hides details while allowing controlled access.\n",
        "\n",
        "\n",
        "- Inheritance (Code Sharing) -\n",
        "\n",
        "Helps classes share common features without duplicating code.\n",
        "\n",
        "f you create a Vehicle class, you can inherit it in Car, Bike, and Truck, avoiding repetitive coding.\n",
        "\n",
        "\n",
        "- Polymorphism (Flexibility) -\n",
        "\n",
        "Different objects can behave in their own way while following the same method names.\n",
        "\n",
        "Just like different musicians play unique instruments but all follow the same rule—\"play()\".\n",
        "\n",
        "\n",
        "- Better Code Organization -\n",
        "\n",
        "Large programs become manageable by structuring them into classes and objects.\n",
        "\n",
        "Instead of scattered functions, everything is neatly grouped by responsibility.\n",
        "\n",
        "\n",
        "- Scalability & Maintainability -\n",
        "\n",
        "You can easily expand your project without affecting existing code.\n",
        "\n",
        "\n",
        "Fixing bugs becomes faster since changes in a class reflect across all related objects.\n",
        "\n",
        "\n"
      ],
      "metadata": {
        "id": "Px0-4AyLwuA4"
      }
    },
    {
      "cell_type": "markdown",
      "source": [
        "**Q.17** What is the difference between a class variable and an instance variable?\n",
        "**Ans -** you’re in a school. There’s a school name that stays the same for all students—that’s like a class variable. But each student has their own unique name and roll number—that’s like an instance variable.\n",
        "\n",
        "- Class Variable vs Instance Variable Comparison:\n",
        "\n",
        "\n",
        "***Class Variable***\n",
        "\n",
        "> Belongs to: The class itself\n",
        "\n",
        "> Shared among all objects:  Yes, same value for all\n",
        "\n",
        "> Defined using: Inside the class, outside any method\n",
        "\n",
        "> Example usage: Setting a common company name for all employees\n",
        "\n",
        "\n",
        "***Instance Variable***\n",
        "\n",
        "> Belongs to: Each object (instance)\n",
        "\n",
        "> Shared among all objects: No, each object has its own value\n",
        "\n",
        "> Defined using: Inside the constructor (`__init__()`)\n",
        "\n",
        "> Example usage: Setting each employee’s individual salary\n",
        "\n",
        "\n",
        "< Class Variables: Shared by all objects; changes affect every instance.\n",
        "\n",
        "< Instance Variables: Unique to each object; changing one doesn’t impact others.\n",
        "\n",
        "\n",
        "\n"
      ],
      "metadata": {
        "id": "aOiybsvV0rLS"
      }
    },
    {
      "cell_type": "markdown",
      "source": [
        "**Q.18** What is multiple inheritance in Python?\n",
        "**Ans -** you’re learning music from two different teachers—one teaches you piano, the other teaches you guitar. You don’t just learn from one; you combine knowledge from both and become a multi-talented musician.\n",
        "This is exactly what multiple inheritance does in Python—it allows a class to inherit from more than one parent class, meaning it gets properties and methods from multiple sources instead of just one.\n",
        "\n",
        "How does it work?\n",
        "\n",
        "In Python, a child class can inherit from two or more parent classes, meaning it gains their features. But if both parents have a method with the same name, Python uses the Method Resolution Order (MRO) to decide which version to execute."
      ],
      "metadata": {
        "id": "Nv3WbLe_2DKa"
      }
    },
    {
      "cell_type": "markdown",
      "source": [
        "**Q.19**  Explain the purpose of ‘’`__str__`’ and ‘`__repr__`’ ‘ methods in Python.\n",
        "**Ans -** think of `__str__` and `__repr__` as two different ways of introducing yourself in different situations.\n",
        "Imagine you meet someone casually, and they ask, “Hey, who are you?”\n",
        "You’d probably say something friendly and simple, like \"I'm Aashish, I work in customer support and testing.\"\n",
        "But if you're in a professional setting or writing a resume, your introduction would be more detailed and precise, like \"Aashish | Customer Support & Manual Testing | Strong communication, problem-solving, and Python skills.\"\n",
        "That’s exactly how `__str__` and `__repr__`  work in Python!\n",
        "- `__str__`(User-Friendly String Representation)\n",
        "\n",
        "Used when you want a human-readable and informal description of an object.\n",
        "\n",
        "Typically used when calling `print(object)`.\n",
        "\n",
        "Should give a clear, simple summary of the object.\n",
        "\n",
        "- `__repr__` (Technical, Debugging Representation)\n",
        "\n",
        "Used for official, precise representations, mainly for debugging.\n",
        "\n",
        "Should provide enough detail so a developer can recreate the object.\n",
        "\n",
        "Called when using `__repr__`  or inspecting the object in the console.\n"
      ],
      "metadata": {
        "id": "dP_mkSDv2lvp"
      }
    },
    {
      "cell_type": "markdown",
      "source": [
        "**Q.20** What is the significance of the ‘super()’ function in Python?\n",
        "**Ans -** you’re working for a company, and your manager has set up some general guidelines for all employees. When you start a new role, instead of rewriting the entire rulebook, you simply inherit those existing guidelines while adding your own specific responsibilities.\n",
        "This is exactly what the `super()` function does in Python—it allows a child class to access and extend the methods and properties of its parent class without rewriting code from scratch.\n",
        "\n",
        "-  Why is `super()` important?\n",
        "\n",
        "Reuses code efficiently – No need to copy-paste parent class methods; just call `super()` .\n",
        "\n",
        "Maintains consistency – Any changes in the parent class automatically apply to child classes.\n",
        "\n",
        "Supports multiple inheritance – Helps properly call parent methods when a child has multiple parents.\n"
      ],
      "metadata": {
        "id": "p1NpEsq74LoQ"
      }
    },
    {
      "cell_type": "markdown",
      "source": [
        "**Q.21** What is the significance of the __del__ method in Python?\n",
        "**Ans -** you’re cleaning up after a dinner party. You start removing plates, wiping the table, and tossing leftovers—all to free up space and keep things tidy.\n",
        "In Python, the `__del__` method works in a similar way—it’s a special method that automatically cleans up objects when they are no longer needed. It’s called the destructor, and it helps free up memory by ensuring that unnecessary objects are removed.\n",
        "\n",
        "- Why is `__del__` important?\n",
        "\n",
        "Memory Cleanup – Prevents excessive memory usage by removing unused objects.\n",
        "\n",
        "Automatic Execution – Runs on its own when an object is deleted or goes out of scope.\n",
        "\n",
        "Resource Management – Can be used to close database connections, files, or network sockets before an object is destroyed.\n",
        "\n",
        "\n"
      ],
      "metadata": {
        "id": "QeeozsbM46WE"
      }
    },
    {
      "cell_type": "markdown",
      "source": [
        "**Q.22**  What is the difference between @staticmethod and @classmethod in Python?\n",
        "**Ans -** you’re part of a company. Some policies apply to every individual employee, while others apply to the company as a whole.\n",
        "\n",
        "In Python, static methods and class methods work the same way:\n",
        "\n",
        "Static methods perform independent tasks that don’t need class-wide access.\n",
        "\n",
        "Class methods modify or use shared class-level data.\n",
        "\n",
        "- Class Method vs Static Method in Python\n",
        "\n",
        "***Class Method (`@classmethod`)***\n",
        "\n",
        "Belongs to: The class itself\n",
        "\n",
        "Uses `cls` : Yes\n",
        "\n",
        "Can modify class attributes:  Yes\n",
        "\n",
        "Access instance-specific data:  No\n",
        "\n",
        "Example Usage: Managing class-wide settings, modifying shared attributes\n",
        "\n",
        "\n",
        "***Static Method (`@staticmethod`)***\n",
        "\n",
        "Belongs to: The function itself\n",
        "\n",
        "Uses `self` or `cls` : No\n",
        "\n",
        "Can modify class attributes: No\n",
        "\n",
        "Access instance-specific data:  No\n",
        "\n",
        "Example Usage: General utility functions, independent calculations\n",
        "\n",
        "\n"
      ],
      "metadata": {
        "id": "Iafh6WRp4-VU"
      }
    },
    {
      "cell_type": "markdown",
      "source": [
        "**Q.23** How does polymorphism work in Python with inheritance?\n",
        "**Ans -** you're running a restaurant, and you have different types of chefs—an Italian chef, a Japanese chef, and a Pastry chef. Even though they all have the same job title (Chef), each one prepares food differently based on their specialty.\n",
        "This is exactly how polymorphism with inheritance works in Python—it allows different child classes to override a method from the parent class, so each child can have its own unique behavior while still following the same structure.\n",
        "\n",
        "- How does it work?\n",
        "\n",
        "The parent class (`chef`) defines a general method (`cook()`).\n",
        "\n",
        "Each child class (`IntalianChef`,`JapaneseChef`,`PastryChef` ) inherits from the parent class but overrides `cook()` , so they prepare food differently.\n",
        "\n",
        "You can use polymorphism to call `cook()` on different chefs without worrying about their specific type—each will follow its own unique logic.\n",
        "\n",
        "\n",
        "\n"
      ],
      "metadata": {
        "id": "dbL_T_sP7CpW"
      }
    },
    {
      "cell_type": "markdown",
      "source": [
        "**Q.24** What is method chaining in Python OOP?\n",
        "**Ans -** you're assembling a custom burger at a restaurant. Instead of telling the chef each ingredient separately, you say, \"I want a bun, add cheese, throw in some lettuce, and top it with BBQ sauce!\"—all in one smooth request. The chef follows your instructions step by step, in sequence, delivering the perfect burger.\n",
        "\n",
        "This is exactly how method chaining works in Python OOP—it allows you to call multiple methods on the same object, one after another, in a single statement, instead of writing them separately.\n",
        "\n",
        "- How does it work?\n",
        "\n",
        "Each method returns the object itself (`self`), so you can call another method immediately after.\n",
        "\n",
        "This creates a flow of operations, making code cleaner and more efficient.\n",
        "\n",
        "\n",
        "\n"
      ],
      "metadata": {
        "id": "nJiJgNPC780T"
      }
    },
    {
      "cell_type": "markdown",
      "source": [
        "**Q.25** What is the purpose of the `__call__` method in Python?\n",
        "**Ans -** you’re hiring a personal assistant. Normally, you ask them to complete tasks like \"Schedule a meeting\" or \"Send an email.\" But what if, instead of explicitly calling a function every time, you could just say their name, and they'd automatically know what to do?\n",
        "That’s exactly what the `__call__` method does in Python—it allows an object itself to be used like a function, meaning you can call an instance directly, instead of calling one of its methods explicitly.\n",
        "\n",
        "Why is `__call__` useful?\n",
        "\n",
        "- Makes objects behave like functions – You can call an instance as if it were a function.\n",
        "\n",
        "- Encapsulates logic – Useful for defining reusable behavior in objects\n",
        "\n",
        "- Enhances readability – Makes code more elegant and natural.\n"
      ],
      "metadata": {
        "id": "45e7Q6vE8cyE"
      }
    },
    {
      "cell_type": "code",
      "source": [
        "# Create a parent class Animal with a method speak() that prints a generic message. Create a child class Dog that overrides the speak() method to print \"Bark!\".\n",
        "\n",
        "class Animal:\n",
        "    def speak(self):\n",
        "        print(\"This animal makes a sound.\")\n",
        "\n",
        "class Dog(Animal):\n",
        "    def speak(self):\n",
        "        print(\"Bark!\")\n",
        "\n",
        "\n",
        "generic_animal = Animal()\n",
        "dog = Dog()\n",
        "\n",
        "# Calling the speak() method\n",
        "generic_animal.speak()\n",
        "dog.speak()"
      ],
      "metadata": {
        "colab": {
          "base_uri": "https://localhost:8080/"
        },
        "id": "lhYCgE749DL3",
        "outputId": "686b973b-ad46-44ae-d1ff-5d56b762a457"
      },
      "execution_count": 2,
      "outputs": [
        {
          "output_type": "stream",
          "name": "stdout",
          "text": [
            "This animal makes a sound.\n",
            "Bark!\n"
          ]
        }
      ]
    },
    {
      "cell_type": "code",
      "source": [
        "#Write a program to create an abstract class Shape with a method area(). Derive classes Circle and Rectangle from it and implement the area() method in both\n",
        "\n",
        "from abc import ABC, abstractmethod\n",
        "\n",
        "class Animal(ABC):  # Abstract class\n",
        "    @abstractmethod\n",
        "    def speak(self):\n",
        "        pass  # Forces child classes to implement this method\n",
        "\n",
        "class Dog(Animal):  # Inheriting from Animal\n",
        "    def speak(self):\n",
        "        return \"Bark! 🐶\"\n",
        "\n",
        "class Cat(Animal):  # Another child class\n",
        "    def speak(self):\n",
        "        return \"Meow! 🐱\"\n",
        "\n",
        "# Creating objects\n",
        "dog = Dog()\n",
        "cat = Cat()\n",
        "\n",
        "print(dog.speak())  # Output: Bark! 🐶\n",
        "print(cat.speak())  # Output: Meow! 🐱"
      ],
      "metadata": {
        "colab": {
          "base_uri": "https://localhost:8080/"
        },
        "id": "pVC08nKI9agD",
        "outputId": "6e6c9fd3-a8d4-4c74-ddca-0b54d2ad4b10"
      },
      "execution_count": 5,
      "outputs": [
        {
          "output_type": "stream",
          "name": "stdout",
          "text": [
            "Bark! 🐶\n",
            "Meow! 🐱\n"
          ]
        }
      ]
    },
    {
      "cell_type": "code",
      "source": [
        "# Implement a multi-level inheritance scenario where a class Vehicle has an attribute type. Derive a class Car and further derive a class ElectricCar that adds a battery attribute\n",
        "\n",
        "class Vehicle:  # Parent class\n",
        "    def __init__(self, vehicle_type):\n",
        "        self.vehicle_type = vehicle_type\n",
        "\n",
        "    def show_type(self):\n",
        "        return f\"This is a {self.vehicle_type}.\"\n",
        "\n",
        "class Car(Vehicle):  # Derived from Vehicle\n",
        "    def __init__(self, vehicle_type, brand):\n",
        "        super().__init__(vehicle_type)  # Calling parent class constructor\n",
        "        self.brand = brand\n",
        "\n",
        "    def show_brand(self):\n",
        "        return f\"This {self.vehicle_type} is a {self.brand}.\"\n",
        "\n",
        "class ElectricCar(Car):  # Derived from Car\n",
        "    def __init__(self, vehicle_type, brand, battery):\n",
        "        super().__init__(vehicle_type, brand)  # Calling Car constructor\n",
        "        self.battery = battery\n",
        "\n",
        "    def show_battery(self):\n",
        "        return f\"The {self.brand} runs on a {self.battery} kWh battery.\"\n",
        "\n",
        "# Creating objects\n",
        "electric_car = ElectricCar(\"Car\", \"Tesla\", 75)\n",
        "\n",
        "# Displaying details\n",
        "print(electric_car.show_type())\n",
        "print(electric_car.show_brand())\n",
        "print(electric_car.show_battery())"
      ],
      "metadata": {
        "colab": {
          "base_uri": "https://localhost:8080/"
        },
        "id": "B7dXeHME-K1m",
        "outputId": "2274cc63-817a-4822-d462-21ce7d3236ec"
      },
      "execution_count": 6,
      "outputs": [
        {
          "output_type": "stream",
          "name": "stdout",
          "text": [
            "This is a Car.\n",
            "This Car is a Tesla.\n",
            "The Tesla runs on a 75 kWh battery.\n"
          ]
        }
      ]
    },
    {
      "cell_type": "code",
      "source": [
        "# Demonstrate polymorphism by creating a base class Bird with a method fly(). Create two derived classes Sparrow and Penguin that override the fly() method.\n",
        "\n",
        "class Bird:  # Parent class\n",
        "    def fly(self):\n",
        "        return \"Some birds can fly!\"\n",
        "\n",
        "class Sparrow(Bird):  # Derived class\n",
        "    def fly(self):  # Overriding fly method\n",
        "        return \"Sparrow flies high in the sky! 🕊️\"\n",
        "\n",
        "class Penguin(Bird):  # Another derived class\n",
        "    def fly(self):  # Overriding fly method\n",
        "        return \"Penguins cannot fly, but they swim gracefully! 🐧\"\n",
        "\n",
        "# Using polymorphism\n",
        "birds = [Sparrow(), Penguin()]\n",
        "\n",
        "for bird in birds:\n",
        "    print(bird.fly())\n",
        "\n",
        "# Output:\n",
        "# Sparrow flies high in the sky! 🕊️\n",
        "# Penguins cannot fly, but they swim gracefully! 🐧"
      ],
      "metadata": {
        "colab": {
          "base_uri": "https://localhost:8080/"
        },
        "id": "Xo2GgW-4-c8d",
        "outputId": "67229f8c-d2e5-4f97-9181-4bb1e0a22b4b"
      },
      "execution_count": 7,
      "outputs": [
        {
          "output_type": "stream",
          "name": "stdout",
          "text": [
            "Sparrow flies high in the sky! 🕊️\n",
            "Penguins cannot fly, but they swim gracefully! 🐧\n"
          ]
        }
      ]
    },
    {
      "cell_type": "code",
      "source": [
        "#  Write a program to demonstrate encapsulation by creating a class BankAccount with private attributes balance and methods to deposit, withdraw, and check balance.\n",
        "\n",
        "class BankAccount:\n",
        "    def __init__(self, initial_balance):\n",
        "        self.__balance = initial_balance  # Private attribute\n",
        "\n",
        "    def deposit(self, amount):\n",
        "        if amount > 0:\n",
        "            self.__balance += amount\n",
        "            return f\"Deposited {amount}. New balance: {self.__balance}\"\n",
        "        return \"Invalid deposit amount!\"\n",
        "\n",
        "    def withdraw(self, amount):\n",
        "        if 0 < amount <= self.__balance:\n",
        "            self.__balance -= amount\n",
        "            return f\"Withdrawn {amount}. Remaining balance: {self.__balance}\"\n",
        "        return \"Insufficient funds or invalid amount!\"\n",
        "\n",
        "    def get_balance(self):  # Controlled access to balance\n",
        "        return f\"Your balance is {self.__balance}\"\n",
        "\n",
        "# Creating an account\n",
        "account = BankAccount(1000)\n",
        "\n",
        "# Testing methods\n",
        "print(account.deposit(500))\n",
        "print(account.withdraw(200))\n",
        "print(account.get_balance())"
      ],
      "metadata": {
        "colab": {
          "base_uri": "https://localhost:8080/"
        },
        "id": "Vsuq2cdt-nCQ",
        "outputId": "3b72f7fe-bd0b-4e9e-bbca-3227ed524494"
      },
      "execution_count": 8,
      "outputs": [
        {
          "output_type": "stream",
          "name": "stdout",
          "text": [
            "Deposited 500. New balance: 1500\n",
            "Withdrawn 200. Remaining balance: 1300\n",
            "Your balance is 1300\n"
          ]
        }
      ]
    },
    {
      "cell_type": "code",
      "source": [
        "# Demonstrate runtime polymorphism using a method play() in a base class Instrument. Derive classes Guitar and Piano that implement their own version of play().\n",
        "\n",
        "class Instrument:  # Parent class\n",
        "    def play(self):\n",
        "        return \"Playing an instrument!\"\n",
        "\n",
        "class Guitar(Instrument):  # Derived class\n",
        "    def play(self):  # Overriding play method\n",
        "        return \"Strumming the guitar! 🎸\"\n",
        "\n",
        "class Piano(Instrument):  # Another derived class\n",
        "    def play(self):  # Overriding play method\n",
        "        return \"Playing the piano! 🎹\"\n",
        "\n",
        "# Using polymorphism\n",
        "instruments = [Guitar(), Piano()]\n",
        "\n",
        "for instrument in instruments:\n",
        "    print(instrument.play())\n",
        "\n",
        "# Output:\n",
        "# Strumming the guitar! 🎸\n",
        "# Playing the piano! 🎹"
      ],
      "metadata": {
        "colab": {
          "base_uri": "https://localhost:8080/"
        },
        "id": "ZlTt238p-0Qo",
        "outputId": "242f3c92-8dc7-401b-b76e-2c911ec9ea66"
      },
      "execution_count": 9,
      "outputs": [
        {
          "output_type": "stream",
          "name": "stdout",
          "text": [
            "Strumming the guitar! 🎸\n",
            "Playing the piano! 🎹\n"
          ]
        }
      ]
    },
    {
      "cell_type": "code",
      "source": [
        "# Create a class MathOperations with a class method add_numbers() to add two numbers and a static method subtract_numbers() to subtract two numbers.\n",
        "\n",
        "class MathOperations:\n",
        "    @classmethod\n",
        "    def add_numbers(cls, a, b):\n",
        "        return a + b  # Class method - can access class-level attributes if needed\n",
        "\n",
        "    @staticmethod\n",
        "    def subtract_numbers(a, b):\n",
        "        return a - b  # Static method - does not depend on the class or instance\n",
        "\n",
        "# Using class and static methods\n",
        "print(MathOperations.add_numbers(10, 5))\n",
        "print(MathOperations.subtract_numbers(10, 5))"
      ],
      "metadata": {
        "colab": {
          "base_uri": "https://localhost:8080/"
        },
        "id": "U5lzgsSk-_g1",
        "outputId": "cb551d84-5841-4e38-819f-3600e1a714be"
      },
      "execution_count": 10,
      "outputs": [
        {
          "output_type": "stream",
          "name": "stdout",
          "text": [
            "15\n",
            "5\n"
          ]
        }
      ]
    },
    {
      "cell_type": "code",
      "source": [
        "# Implement a class Person with a class method to count the total number of persons created.\n",
        "\n",
        "class Person:\n",
        "    count = 0  # Class variable to track total persons\n",
        "\n",
        "    def __init__(self, name):\n",
        "        self.name = name\n",
        "        Person.count += 1  # Increment count when a new person is created\n",
        "\n",
        "    @classmethod\n",
        "    def total_persons(cls):\n",
        "        return f\"Total persons created: {cls.count}\"\n",
        "\n",
        "# Creating objects\n",
        "p1 = Person(\"Aashish\")\n",
        "p2 = Person(\"Priya\")\n",
        "p3 = Person(\"Rahul\")\n",
        "\n",
        "# Checking total persons\n",
        "print(Person.total_persons())"
      ],
      "metadata": {
        "colab": {
          "base_uri": "https://localhost:8080/"
        },
        "id": "k6nBvLRc_Jkz",
        "outputId": "529e3bdb-0e36-4ced-df1c-645a92e0aeb7"
      },
      "execution_count": 11,
      "outputs": [
        {
          "output_type": "stream",
          "name": "stdout",
          "text": [
            "Total persons created: 3\n"
          ]
        }
      ]
    },
    {
      "cell_type": "code",
      "source": [
        "#  Write a class Fraction with attributes numerator and denominator. Override the str method to display the fraction as \"numerator/denominator\".\n",
        "\n",
        "class Fraction:\n",
        "    def __init__(self, numerator, denominator):\n",
        "        self.numerator = numerator\n",
        "        self.denominator = denominator\n",
        "\n",
        "    def __str__(self):\n",
        "        return f\"{self.numerator}/{self.denominator}\"\n",
        "\n",
        "# Creating fraction objects\n",
        "fraction1 = Fraction(3, 4)\n",
        "fraction2 = Fraction(5, 8)\n",
        "\n",
        "# Printing fractions\n",
        "print(fraction1)\n",
        "print(fraction2)"
      ],
      "metadata": {
        "colab": {
          "base_uri": "https://localhost:8080/"
        },
        "id": "4j6B3Cwu_SGg",
        "outputId": "e6016203-c961-47c6-9669-5eb11005ba99"
      },
      "execution_count": 13,
      "outputs": [
        {
          "output_type": "stream",
          "name": "stdout",
          "text": [
            "3/4\n",
            "5/8\n"
          ]
        }
      ]
    },
    {
      "cell_type": "code",
      "source": [
        "#  Demonstrate operator overloading by creating a class Vector and overriding the add method to add two vectors.\n",
        "\n",
        "class Vector:\n",
        "    def __init__(self, x, y):\n",
        "        self.x = x\n",
        "        self.y = y\n",
        "\n",
        "    def __add__(self, other):  # Overloading the + operator\n",
        "        return Vector(self.x + other.x, self.y + other.y)\n",
        "\n",
        "    def __str__(self):\n",
        "        return f\"({self.x}, {self.y})\"\n",
        "\n",
        "# Creating vector objects\n",
        "v1 = Vector(2, 3)\n",
        "v2 = Vector(4, 5)\n",
        "\n",
        "# Adding vectors using overloaded + operator\n",
        "v3 = v1 + v2\n",
        "\n",
        "print(f\"Vector 1: {v1}\")\n",
        "print(f\"Vector 2: {v2}\")\n",
        "print(f\"Vector Sum: {v3}\")"
      ],
      "metadata": {
        "colab": {
          "base_uri": "https://localhost:8080/"
        },
        "id": "wJx58eUj_ePm",
        "outputId": "0e6eebf1-cbcf-4fa1-fff7-ce57b8a5547f"
      },
      "execution_count": 14,
      "outputs": [
        {
          "output_type": "stream",
          "name": "stdout",
          "text": [
            "Vector 1: (2, 3)\n",
            "Vector 2: (4, 5)\n",
            "Vector Sum: (6, 8)\n"
          ]
        }
      ]
    },
    {
      "cell_type": "code",
      "source": [
        "#  Create a class Person with attributes name and age. Add a method greet() that prints \"Hello, my name is {name} and I am {age} years old.\"\n",
        "\n",
        "class Person:\n",
        "    def __init__(self, name, age):\n",
        "        self.name = name\n",
        "        self.age = age\n",
        "\n",
        "    def greet(self):\n",
        "        print(f\"Hello, my name is {self.name} and I am {self.age} years old.\")\n",
        "\n",
        "# Creating a Person object\n",
        "person1 = Person(\"Aashish\", 25)\n",
        "\n",
        "# Calling the greet method\n",
        "person1.greet()"
      ],
      "metadata": {
        "colab": {
          "base_uri": "https://localhost:8080/"
        },
        "id": "72dPr8da_oRq",
        "outputId": "739552a5-30b7-47b5-fa68-73425f9e29b8"
      },
      "execution_count": 15,
      "outputs": [
        {
          "output_type": "stream",
          "name": "stdout",
          "text": [
            "Hello, my name is Aashish and I am 25 years old.\n"
          ]
        }
      ]
    },
    {
      "cell_type": "code",
      "source": [
        "#  Implement a class Student with attributes name and grades. Create a method average_grade() to compute the average of the grades.\n",
        "\n",
        "class Student:\n",
        "    def __init__(self, name, grades):\n",
        "        self.name = name\n",
        "        self.grades = grades  # List of grades\n",
        "\n",
        "    def average_grade(self):\n",
        "        return sum(self.grades) / len(self.grades) if self.grades else 0\n",
        "\n",
        "# Creating a student object\n",
        "student1 = Student(\"Aashish\", [85, 90, 78, 92])\n",
        "\n",
        "# Calculating average grade\n",
        "print(f\"{student1.name}'s average grade: {student1.average_grade()}\")\n"
      ],
      "metadata": {
        "colab": {
          "base_uri": "https://localhost:8080/"
        },
        "id": "12UaSHVJ_zaK",
        "outputId": "da2b0faa-8909-4361-9ba4-c0e1137fcd9e"
      },
      "execution_count": 16,
      "outputs": [
        {
          "output_type": "stream",
          "name": "stdout",
          "text": [
            "Aashish's average grade: 86.25\n"
          ]
        }
      ]
    },
    {
      "cell_type": "code",
      "source": [
        "#  Create a class Rectangle with methods set_dimensions() to set the dimensions and area() to calculate the area.\n",
        "\n",
        "class Rectangle:\n",
        "    def __init__(self):\n",
        "        self.width = 0\n",
        "        self.height = 0\n",
        "\n",
        "    def set_dimensions(self, width, height):\n",
        "        self.width = width\n",
        "        self.height = height\n",
        "\n",
        "    def area(self):\n",
        "        return self.width * self.height\n",
        "\n",
        "# Creating a rectangle object\n",
        "rect = Rectangle()\n",
        "rect.set_dimensions(5, 10)\n",
        "\n",
        "# Calculating and displaying area\n",
        "print(f\"Rectangle Area: {rect.area()}\")"
      ],
      "metadata": {
        "colab": {
          "base_uri": "https://localhost:8080/"
        },
        "id": "6gfjZirZ_9ST",
        "outputId": "af6520a9-95bc-44f8-a255-7d5364bdd382"
      },
      "execution_count": 17,
      "outputs": [
        {
          "output_type": "stream",
          "name": "stdout",
          "text": [
            "Rectangle Area: 50\n"
          ]
        }
      ]
    },
    {
      "cell_type": "code",
      "source": [
        "# Create a class Employee with a method calculate_salary() that computes the salary based on hours worked and hourly rate. Create a derived class Manager that adds a bonus to the salary.\n",
        "\n",
        "class Employee:\n",
        "    def __init__(self, name, hours_worked, hourly_rate):\n",
        "        self.name = name\n",
        "        self.hours_worked = hours_worked\n",
        "        self.hourly_rate = hourly_rate\n",
        "\n",
        "    def calculate_salary(self):\n",
        "        return self.hours_worked * self.hourly_rate\n",
        "\n",
        "class Manager(Employee):  # Inheriting from Employee\n",
        "    def __init__(self, name, hours_worked, hourly_rate, bonus):\n",
        "        super().__init__(name, hours_worked, hourly_rate)\n",
        "        self.bonus = bonus\n",
        "\n",
        "    def calculate_salary(self):  # Overriding the method\n",
        "        return super().calculate_salary() + self.bonus  # Adding bonus\n",
        "\n",
        "# Creating objects\n",
        "emp = Employee(\"John\", 40, 20)\n",
        "mgr = Manager(\"Alice\", 40, 30, 500)\n",
        "\n",
        "# Calculating salaries\n",
        "print(f\"{emp.name}'s Salary: ${emp.calculate_salary()}\")\n",
        "print(f\"{mgr.name}'s Salary: ${mgr.calculate_salary()}\")"
      ],
      "metadata": {
        "colab": {
          "base_uri": "https://localhost:8080/"
        },
        "id": "NIoZQDbzAH4f",
        "outputId": "453c660a-a2dd-489a-9042-9d9a80706da8"
      },
      "execution_count": 18,
      "outputs": [
        {
          "output_type": "stream",
          "name": "stdout",
          "text": [
            "John's Salary: $800\n",
            "Alice's Salary: $1700\n"
          ]
        }
      ]
    },
    {
      "cell_type": "code",
      "source": [
        "#  Create a class Product with attributes name, price, and quantity. Implement a method total_price() that alculates the total price of the product\n",
        "\n",
        "class Product:\n",
        "    def __init__(self, name, price, quantity):\n",
        "        self.name = name\n",
        "        self.price = price\n",
        "        self.quantity = quantity\n",
        "\n",
        "    def total_price(self):\n",
        "        return self.price * self.quantity\n",
        "\n",
        "# Creating a product object\n",
        "product1 = Product(\"Laptop\", 50000, 2)\n",
        "\n",
        "# Calculating total price\n",
        "print(f\"Total price for {product1.quantity} {product1.name}(s): ₹{product1.total_price()}\")\n"
      ],
      "metadata": {
        "colab": {
          "base_uri": "https://localhost:8080/"
        },
        "id": "zHbLQ8kaAUqX",
        "outputId": "13c8af25-7cab-4963-9828-461d6a10cf26"
      },
      "execution_count": 19,
      "outputs": [
        {
          "output_type": "stream",
          "name": "stdout",
          "text": [
            "Total price for 2 Laptop(s): ₹100000\n"
          ]
        }
      ]
    },
    {
      "cell_type": "code",
      "source": [
        "#  Create a class Animal with an abstract method sound(). Create two derived classes Cow and Sheep that implement the sound() method.\n",
        "\n",
        "from abc import ABC, abstractmethod\n",
        "\n",
        "class Animal(ABC):  # Abstract base class\n",
        "    @abstractmethod\n",
        "    def sound(self):\n",
        "        pass  # Forces child classes to implement this method\n",
        "\n",
        "class Cow(Animal):  # Inheriting from Animal\n",
        "    def sound(self):\n",
        "        return \"Moo! 🐄\"\n",
        "\n",
        "class Sheep(Animal):  # Another child class\n",
        "    def sound(self):\n",
        "        return \"Baa! 🐑\"\n",
        "\n",
        "# Creating objects\n",
        "cow = Cow()\n",
        "sheep = Sheep()\n",
        "\n",
        "# Calling the sound method\n",
        "print(cow.sound())\n",
        "print(sheep.sound())"
      ],
      "metadata": {
        "colab": {
          "base_uri": "https://localhost:8080/"
        },
        "id": "JysuTLUXAd8x",
        "outputId": "920ba516-14c7-426e-8111-26dc867731c5"
      },
      "execution_count": 20,
      "outputs": [
        {
          "output_type": "stream",
          "name": "stdout",
          "text": [
            "Moo! 🐄\n",
            "Baa! 🐑\n"
          ]
        }
      ]
    },
    {
      "cell_type": "code",
      "source": [
        "# . Create a class Book with attributes title, author, and year_published. Add a method get_book_info() that returns a formatted string with the book's details.\n",
        "\n",
        "class Book:\n",
        "    def __init__(self, title, author, year_published):\n",
        "        self.title = title\n",
        "        self.author = author\n",
        "        self.year_published = year_published\n",
        "\n",
        "    def get_book_info(self):\n",
        "        return f\"'{self.title}' by {self.author}, published in {self.year_published}.\"\n",
        "\n",
        "# Creating a book object\n",
        "book1 = Book(\"To Kill a Mockingbird\", \"Harper Lee\", 1960)\n",
        "\n",
        "# Displaying book info\n",
        "print(book1.get_book_info())"
      ],
      "metadata": {
        "colab": {
          "base_uri": "https://localhost:8080/"
        },
        "id": "d5TpFOEBAo9u",
        "outputId": "18c46a7d-cb16-42b1-fbb6-232f9af61992"
      },
      "execution_count": 21,
      "outputs": [
        {
          "output_type": "stream",
          "name": "stdout",
          "text": [
            "'To Kill a Mockingbird' by Harper Lee, published in 1960.\n"
          ]
        }
      ]
    },
    {
      "cell_type": "code",
      "source": [
        "#  Create a class House with attributes address and price. Create a derived class Mansion that adds an attribute number_of_rooms.\n",
        "\n",
        "class House:\n",
        "    def __init__(self, address, price):\n",
        "        self.address = address\n",
        "        self.price = price\n",
        "\n",
        "    def show_details(self):\n",
        "        return f\"Address: {self.address}, Price: ${self.price}\"\n",
        "\n",
        "class Mansion(House):  # Inheriting from House\n",
        "    def __init__(self, address, price, number_of_rooms):\n",
        "        super().__init__(address, price)  # Calling the parent constructor\n",
        "        self.number_of_rooms = number_of_rooms\n",
        "\n",
        "    def show_details(self):  # Overriding the method to include rooms\n",
        "        return f\"Address: {self.address}, Price: ${self.price}, Rooms: {self.number_of_rooms}\"\n",
        "\n",
        "# Creating objects\n",
        "house = House(\"123 Main St\", 250000)\n",
        "mansion = Mansion(\"456 Luxury Ave\", 2000000, 15)\n",
        "\n",
        "# Displaying details\n",
        "print(house.show_details())\n",
        "print(mansion.show_details())"
      ],
      "metadata": {
        "colab": {
          "base_uri": "https://localhost:8080/"
        },
        "id": "-VS4EjLyAyLv",
        "outputId": "febe60a2-814e-43ae-83c7-9e6014910b9f"
      },
      "execution_count": 22,
      "outputs": [
        {
          "output_type": "stream",
          "name": "stdout",
          "text": [
            "Address: 123 Main St, Price: $250000\n",
            "Address: 456 Luxury Ave, Price: $2000000, Rooms: 15\n"
          ]
        }
      ]
    }
  ]
}